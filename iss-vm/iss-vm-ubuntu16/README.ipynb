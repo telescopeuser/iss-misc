{
 "cells": [
  {
   "cell_type": "markdown",
   "metadata": {},
   "source": [
    "### 顾 瞻 GU Zhan (Sam)\n",
    "\n",
    "zhan.gu@nus.edu.sg"
   ]
  },
  {
   "cell_type": "markdown",
   "metadata": {},
   "source": [
    "<img src=\"https://media.licdn.com/mpr/mpr/shrinknp_200_200/p/5/005/082/25a/083eb2e.jpg\" style=\"float: left; margin-right: 100px;\" width=\"150\" />"
   ]
  },
  {
   "cell_type": "markdown",
   "metadata": {},
   "source": [
    "# < User Guide for iss-vm >\n",
    "\n",
    "### Installation steps:\n",
    "* .1. Download and install Virtualbox software: https://www.virtualbox.org/wiki/Downloads\n",
    "* .2. Download and iss-vm virtual machine (an Appliance) from: http://bit.ly/iss-vm-v13\n",
    "* .3. Start Virtualbox software\n",
    "* .4. Click File -> Import Appliance\n",
    "\n",
    "<img src=\"iss-vm-ubuntu16/iss-vm-s4.png\" style=\"float: left; margin-right: 10px;\" width=\"900\" />\n"
   ]
  },
  {
   "cell_type": "markdown",
   "metadata": {},
   "source": [
    "* .5. Click Start to use iss-vm\n",
    "* .6. Data science software are on the desktop\n",
    "\n",
    "<img src=\"iss-vm-ubuntu16/iss-vm-s6.png\" style=\"float: left; margin-right: 10px;\" width=\"900\" />\n"
   ]
  },
  {
   "cell_type": "markdown",
   "metadata": {},
   "source": [
    "### This iss-vm Ubuntu 16.04 contains contains:\n",
    "\n",
    "* Anaconda3-5.0.1-Linux-x86_64\n",
    "* Python 3.6 in conda environment: iss-env-py3\n",
    "* Python 2.7 in conda environment: iss-env-py2\n",
    "* Jupyter Notebook\n",
    "* Jupyter R kernel\n",
    "* Spyder\n",
    "* Orange3\n",
    "* scikit-learn\n",
    "* tensorflow\n",
    "* pytorch\n",
    "* keras\n",
    "* conda\n",
    "* pip\n",
    "* nltk & nltk data : nltk.download('popular')\n",
    "* R\n",
    "* R Studio\n",
    "* R Rattle\n",
    "* CLIPS (Rule Based Expert System)\n",
    "* Git (Git Bash)\n",
    "* Solver (Nonlinear Programming / Genetic Algorithms) for LibreOffice\n",
    "* MySQL\n",
    "* Google Cloud SDK: gcloud & datalab \n",
    "* Google APIs Client Library for Python: google-api-python-client\n",
    "\n",
    "---\n",
    "\n",
    "linux machine name                  : iss-vm \n",
    "\n",
    "linux user id                       \t: iss-user \n",
    "\n",
    "linux user password                \t: iss-user \n",
    "\n",
    "anaconda python 3 environment : iss-env-py3 \n",
    "\n",
    "anaconda python 2 environment : iss-env-py2 \n",
    "\n",
    "MySQL user id                       \t: iss-user \n",
    "\n",
    "MySQL user password                 \t: iss-user \n",
    "\n",
    "MySQL root user id                  \t: root \n",
    "\n",
    "MySQL root user password \t: iss-user \n",
    "\n",
    "---\n",
    "\n",
    "VirtualBox shared folder in guest (iss-vm linux) operating system: /media/sf_vm_shared_folder \n",
    "\n",
    "VirtualBox shared folder in host operating system: D:\\0020_vm_disk\\vm_shared_folder \n",
    "\n",
    "To display linux/ubuntu keyboard shortcuts: Long hold of SUPER Key (WINDOWS Key)\n",
    "\n",
    "---\n",
    "\n",
    "Copyright © 2018 GU Zhan (Sam) \n",
    "\n",
    "\n",
    "SOME RIGHTS RESERVED\n",
    "\n",
    "\n",
    "zhan.gu@nus.edu.sg\n",
    "\n",
    "\n",
    "No commercial usage of this virtual machine without written permission!\n"
   ]
  },
  {
   "cell_type": "markdown",
   "metadata": {},
   "source": [
    "### Your data scince road map"
   ]
  },
  {
   "cell_type": "markdown",
   "metadata": {},
   "source": [
    "<img src=\"https://s3-eu-west-1.amazonaws.com/fayimora.com/2017/04/RoadToDataScientist1.png\"\n",
    "     style=\"float: left; margin-right: 0px;\" />"
   ]
  },
  {
   "cell_type": "markdown",
   "metadata": {},
   "source": [
    "https://s3-eu-west-1.amazonaws.com/fayimora.com/2017/04/RoadToDataScientist1.png"
   ]
  },
  {
   "cell_type": "markdown",
   "metadata": {},
   "source": [
    "---"
   ]
  }
 ],
 "metadata": {
  "kernelspec": {
   "display_name": "Python 3",
   "language": "python",
   "name": "python3"
  },
  "language_info": {
   "codemirror_mode": {
    "name": "ipython",
    "version": 3
   },
   "file_extension": ".py",
   "mimetype": "text/x-python",
   "name": "python",
   "nbconvert_exporter": "python",
   "pygments_lexer": "ipython3",
   "version": "3.6.4"
  }
 },
 "nbformat": 4,
 "nbformat_minor": 2
}
