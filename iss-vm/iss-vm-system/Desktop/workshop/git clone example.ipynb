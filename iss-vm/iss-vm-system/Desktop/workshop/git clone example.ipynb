{
 "cells": [
  {
   "cell_type": "code",
   "execution_count": 1,
   "metadata": {
    "scrolled": false
   },
   "outputs": [
    {
     "name": "stdout",
     "output_type": "stream",
     "text": [
      "/home/iss-user/Desktop/workshop\r\n"
     ]
    }
   ],
   "source": [
    "!pwd"
   ]
  },
  {
   "cell_type": "code",
   "execution_count": 2,
   "metadata": {},
   "outputs": [
    {
     "name": "stdout",
     "output_type": "stream",
     "text": [
      "total 56\r\n",
      "-rw-rw-r-- 1 iss-user iss-user  2021 Dec 18 14:24 git clone example.ipynb\r\n",
      "-rw-rw-r-- 1 iss-user iss-user 24751 Dec 18 14:19 health-check-Python.ipynb\r\n",
      "-rw-rw-r-- 1 iss-user iss-user 17391 Dec 18 14:19 health-check-R.ipynb\r\n",
      "-rw-rw-r-- 1 iss-user iss-user    39 Dec 18 14:19 health-check-Rstudio.R\r\n"
     ]
    }
   ],
   "source": [
    "!ls -l"
   ]
  },
  {
   "cell_type": "code",
   "execution_count": 3,
   "metadata": {},
   "outputs": [
    {
     "name": "stdout",
     "output_type": "stream",
     "text": [
      "Cloning into 'KE2018ISBA'...\n",
      "remote: Counting objects: 13, done.\u001b[K\n",
      "remote: Compressing objects: 100% (11/11), done.\u001b[K\n",
      "remote: Total 13 (delta 0), reused 10 (delta 0), pack-reused 0\u001b[K\n",
      "Unpacking objects: 100% (13/13), done.\n"
     ]
    }
   ],
   "source": [
    "!git clone https://github.com/telescopeuser/KE2018ISBA.git"
   ]
  },
  {
   "cell_type": "code",
   "execution_count": 4,
   "metadata": {},
   "outputs": [
    {
     "name": "stdout",
     "output_type": "stream",
     "text": [
      "total 60\r\n",
      "-rw-rw-r-- 1 iss-user iss-user  2021 Dec 18 14:24 git clone example.ipynb\r\n",
      "-rw-rw-r-- 1 iss-user iss-user 24751 Dec 18 14:19 health-check-Python.ipynb\r\n",
      "-rw-rw-r-- 1 iss-user iss-user 17391 Dec 18 14:19 health-check-R.ipynb\r\n",
      "-rw-rw-r-- 1 iss-user iss-user    39 Dec 18 14:19 health-check-Rstudio.R\r\n",
      "drwxrwxr-x 4 iss-user iss-user  4096 Dec 18 14:26 KE2018ISBA\r\n"
     ]
    }
   ],
   "source": [
    "!ls -l"
   ]
  },
  {
   "cell_type": "code",
   "execution_count": null,
   "metadata": {},
   "outputs": [],
   "source": []
  }
 ],
 "metadata": {
  "kernelspec": {
   "display_name": "Python 3",
   "language": "python",
   "name": "python3"
  },
  "language_info": {
   "codemirror_mode": {
    "name": "ipython",
    "version": 3
   },
   "file_extension": ".py",
   "mimetype": "text/x-python",
   "name": "python",
   "nbconvert_exporter": "python",
   "pygments_lexer": "ipython3",
   "version": "3.6.3"
  }
 },
 "nbformat": 4,
 "nbformat_minor": 2
}
