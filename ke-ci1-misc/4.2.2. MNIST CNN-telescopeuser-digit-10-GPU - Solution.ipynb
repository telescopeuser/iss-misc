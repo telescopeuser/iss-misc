{
 "cells": [
  {
   "cell_type": "markdown",
   "metadata": {
    "slideshow": {
     "slide_type": "slide"
    }
   },
   "source": [
    "# Convolution Nets for MNIST\n",
    "\n",
    "### TelescopeUser: 10-class classification problem"
   ]
  },
  {
   "cell_type": "markdown",
   "metadata": {},
   "source": [
    "<img src=\"imgs/mnist_plot.png\"\n",
    "     style=\"float: left; margin-right: 1px;\" width=\"500\" height=\"400\" />"
   ]
  },
  {
   "cell_type": "markdown",
   "metadata": {
    "slideshow": {
     "slide_type": "subslide"
    }
   },
   "source": [
    "Deep Learning models can take quite a bit of time to run, particularly if GPU isn't used. \n",
    "\n",
    "In the interest of time, you could sample a subset of observations (e.g. $1000$) that are a particular number of your choice (e.g. $6$) and $1000$ observations that aren't that particular number (i.e. $\\neq 6$). \n",
    "\n",
    "We will build a model using that and see how it performs on the test dataset"
   ]
  },
  {
   "cell_type": "code",
   "execution_count": 1,
   "metadata": {
    "slideshow": {
     "slide_type": "subslide"
    }
   },
   "outputs": [
    {
     "name": "stderr",
     "output_type": "stream",
     "text": [
      "Using TensorFlow backend.\n"
     ]
    }
   ],
   "source": [
    "#Import the required libraries\n",
    "import numpy as np\n",
    "np.random.seed(1338)\n",
    "\n",
    "from keras.datasets import mnist"
   ]
  },
  {
   "cell_type": "code",
   "execution_count": 2,
   "metadata": {
    "slideshow": {
     "slide_type": "fragment"
    }
   },
   "outputs": [],
   "source": [
    "from keras.models import Sequential\n",
    "from keras.layers.core import Dense, Dropout, Activation, Flatten"
   ]
  },
  {
   "cell_type": "code",
   "execution_count": 3,
   "metadata": {
    "slideshow": {
     "slide_type": "fragment"
    }
   },
   "outputs": [],
   "source": [
    "from keras.layers.convolutional import Conv2D\n",
    "from keras.layers.pooling import MaxPooling2D"
   ]
  },
  {
   "cell_type": "code",
   "execution_count": 4,
   "metadata": {
    "slideshow": {
     "slide_type": "fragment"
    }
   },
   "outputs": [],
   "source": [
    "from keras.utils import np_utils\n",
    "from keras.optimizers import SGD"
   ]
  },
  {
   "cell_type": "markdown",
   "metadata": {
    "slideshow": {
     "slide_type": "subslide"
    }
   },
   "source": [
    "## Loading Data"
   ]
  },
  {
   "cell_type": "code",
   "execution_count": 5,
   "metadata": {
    "slideshow": {
     "slide_type": "-"
    }
   },
   "outputs": [],
   "source": [
    "# Load the training and testing data\n",
    "(X_train, Y_train), (X_test, Y_test) = mnist.load_data()\n",
    "# Display purpose:\n",
    "X_train_orig = X_train\n",
    "X_test_orig = X_test"
   ]
  },
  {
   "cell_type": "markdown",
   "metadata": {
    "slideshow": {
     "slide_type": "subslide"
    }
   },
   "source": [
    "## Data Preparation"
   ]
  },
  {
   "cell_type": "markdown",
   "metadata": {},
   "source": [
    "### Very Important: \n",
    "When dealing with images & convolutions, it is paramount to handle `image_data_format` properly"
   ]
  },
  {
   "cell_type": "code",
   "execution_count": 6,
   "metadata": {},
   "outputs": [],
   "source": [
    "from keras import backend as K"
   ]
  },
  {
   "cell_type": "code",
   "execution_count": 7,
   "metadata": {},
   "outputs": [],
   "source": [
    "img_rows, img_cols = 28, 28\n",
    "\n",
    "if K.image_data_format() == 'channels_first':\n",
    "    shape_ord = (1, img_rows, img_cols)\n",
    "else:  # channel_last\n",
    "    shape_ord = (img_rows, img_cols, 1)"
   ]
  },
  {
   "cell_type": "markdown",
   "metadata": {},
   "source": [
    "#### Preprocess and Normalise Data"
   ]
  },
  {
   "cell_type": "code",
   "execution_count": 8,
   "metadata": {
    "slideshow": {
     "slide_type": "-"
    }
   },
   "outputs": [],
   "source": [
    "X_train = X_train.reshape((X_train.shape[0],) + shape_ord)\n",
    "X_test = X_test.reshape((X_test.shape[0],) + shape_ord)\n",
    "\n",
    "X_train = X_train.astype('float32')\n",
    "X_test = X_test.astype('float32')\n",
    "\n",
    "X_train /= 255\n",
    "X_test /= 255"
   ]
  },
  {
   "cell_type": "markdown",
   "metadata": {
    "slideshow": {
     "slide_type": "subslide"
    }
   },
   "source": [
    "### Let's look at some images"
   ]
  },
  {
   "cell_type": "code",
   "execution_count": 9,
   "metadata": {
    "slideshow": {
     "slide_type": "skip"
    }
   },
   "outputs": [],
   "source": [
    "import matplotlib.pyplot as plt\n",
    "%matplotlib inline"
   ]
  },
  {
   "cell_type": "code",
   "execution_count": 10,
   "metadata": {},
   "outputs": [
    {
     "name": "stdout",
     "output_type": "stream",
     "text": [
      "[5 0 4 1 9 2 1 3 1 4]\n"
     ]
    },
    {
     "data": {
      "image/png": "[encoded data removed]",
      "text/plain": [
       "<matplotlib.figure.Figure at 0x7fcfc0dae240>"
      ]
     },
     "metadata": {},
     "output_type": "display_data"
    }
   ],
   "source": [
    "print(Y_train[0:10])\n",
    "\n",
    "slice = 10\n",
    "plt.figure(figsize=(16,8))\n",
    "for i in range(slice):\n",
    "    plt.subplot(1, slice, i+1)\n",
    "    plt.imshow(X_train_orig[i], interpolation='nearest')\n",
    "    plt.axis('off')"
   ]
  },
  {
   "cell_type": "code",
   "execution_count": 11,
   "metadata": {},
   "outputs": [
    {
     "name": "stdout",
     "output_type": "stream",
     "text": [
      "[7 2 1 0 4 1 4 9 5 9]\n"
     ]
    },
    {
     "data": {
      "image/png": "[encoded data removed]",
      "text/plain": [
       "<matplotlib.figure.Figure at 0x7fcfbd4a3390>"
      ]
     },
     "metadata": {},
     "output_type": "display_data"
    }
   ],
   "source": [
    "print(Y_test[0:10])\n",
    "\n",
    "slice = 10\n",
    "plt.figure(figsize=(16,8))\n",
    "for i in range(slice):\n",
    "    plt.subplot(1, slice, i+1)\n",
    "    plt.imshow(X_test_orig[i], interpolation='nearest')\n",
    "    plt.axis('off')"
   ]
  },
  {
   "cell_type": "markdown",
   "metadata": {},
   "source": [
    "### One-hot Encoding for label digits 0 ~ 9"
   ]
  },
  {
   "cell_type": "code",
   "execution_count": 12,
   "metadata": {
    "slideshow": {
     "slide_type": "subslide"
    }
   },
   "outputs": [
    {
     "name": "stdout",
     "output_type": "stream",
     "text": [
      "(60000, 28, 28, 1) (60000,) (10000, 28, 28, 1) (10000,)\n"
     ]
    }
   ],
   "source": [
    "print(X_train.shape, Y_train.shape, X_test.shape, Y_test.shape)"
   ]
  },
  {
   "cell_type": "code",
   "execution_count": 13,
   "metadata": {
    "slideshow": {
     "slide_type": "fragment"
    }
   },
   "outputs": [],
   "source": [
    "# Converting the classes to its binary categorical form\n",
    "nb_classes = 10\n",
    "Y_train = np_utils.to_categorical(Y_train, nb_classes)\n",
    "Y_test = np_utils.to_categorical(Y_test, nb_classes)"
   ]
  },
  {
   "cell_type": "code",
   "execution_count": 14,
   "metadata": {
    "slideshow": {
     "slide_type": "subslide"
    }
   },
   "outputs": [
    {
     "name": "stdout",
     "output_type": "stream",
     "text": [
      "(60000, 28, 28, 1) (60000, 10) (10000, 28, 28, 1) (10000, 10)\n"
     ]
    }
   ],
   "source": [
    "print(X_train.shape, Y_train.shape, X_test.shape, Y_test.shape)"
   ]
  },
  {
   "cell_type": "code",
   "execution_count": 15,
   "metadata": {
    "scrolled": true
   },
   "outputs": [
    {
     "data": {
      "text/plain": [
       "array([[ 0.,  0.,  0.,  0.,  0.,  1.,  0.,  0.,  0.,  0.],\n",
       "       [ 1.,  0.,  0.,  0.,  0.,  0.,  0.,  0.,  0.,  0.],\n",
       "       [ 0.,  0.,  0.,  0.,  1.,  0.,  0.,  0.,  0.,  0.],\n",
       "       [ 0.,  1.,  0.,  0.,  0.,  0.,  0.,  0.,  0.,  0.],\n",
       "       [ 0.,  0.,  0.,  0.,  0.,  0.,  0.,  0.,  0.,  1.],\n",
       "       [ 0.,  0.,  1.,  0.,  0.,  0.,  0.,  0.,  0.,  0.],\n",
       "       [ 0.,  1.,  0.,  0.,  0.,  0.,  0.,  0.,  0.,  0.],\n",
       "       [ 0.,  0.,  0.,  1.,  0.,  0.,  0.,  0.,  0.,  0.],\n",
       "       [ 0.,  1.,  0.,  0.,  0.,  0.,  0.,  0.,  0.,  0.],\n",
       "       [ 0.,  0.,  0.,  0.,  1.,  0.,  0.,  0.,  0.,  0.]])"
      ]
     },
     "execution_count": 15,
     "metadata": {},
     "output_type": "execute_result"
    }
   ],
   "source": [
    "Y_train[0:10]"
   ]
  },
  {
   "cell_type": "code",
   "execution_count": 16,
   "metadata": {
    "scrolled": true
   },
   "outputs": [
    {
     "data": {
      "text/plain": [
       "array([[ 0.,  0.,  0.,  0.,  0.,  0.,  0.,  1.,  0.,  0.],\n",
       "       [ 0.,  0.,  1.,  0.,  0.,  0.,  0.,  0.,  0.,  0.],\n",
       "       [ 0.,  1.,  0.,  0.,  0.,  0.,  0.,  0.,  0.,  0.],\n",
       "       [ 1.,  0.,  0.,  0.,  0.,  0.,  0.,  0.,  0.,  0.],\n",
       "       [ 0.,  0.,  0.,  0.,  1.,  0.,  0.,  0.,  0.,  0.],\n",
       "       [ 0.,  1.,  0.,  0.,  0.,  0.,  0.,  0.,  0.,  0.],\n",
       "       [ 0.,  0.,  0.,  0.,  1.,  0.,  0.,  0.,  0.,  0.],\n",
       "       [ 0.,  0.,  0.,  0.,  0.,  0.,  0.,  0.,  0.,  1.],\n",
       "       [ 0.,  0.,  0.,  0.,  0.,  1.,  0.,  0.,  0.,  0.],\n",
       "       [ 0.,  0.,  0.,  0.,  0.,  0.,  0.,  0.,  0.,  1.]])"
      ]
     },
     "execution_count": 16,
     "metadata": {},
     "output_type": "execute_result"
    }
   ],
   "source": [
    "Y_test[0:10]"
   ]
  },
  {
   "cell_type": "markdown",
   "metadata": {
    "slideshow": {
     "slide_type": "slide"
    }
   },
   "source": [
    "# A simple CNN"
   ]
  },
  {
   "cell_type": "code",
   "execution_count": 17,
   "metadata": {
    "slideshow": {
     "slide_type": "subslide"
    }
   },
   "outputs": [],
   "source": [
    "# -- Initializing the values for the convolution neural network\n",
    "\n",
    "# nb_epoch = 2  # kept very low! Please increase if you have GPU instead of CPU\n",
    "nb_epoch = 20  # kept very low! Please increase if you have GPU instead of CPU\n",
    "\n",
    "batch_size = 64\n",
    "# number of convolutional filters to use\n",
    "nb_filters = 32\n",
    "# size of pooling area for max pooling\n",
    "nb_pool = 2\n",
    "# convolution kernel size\n",
    "nb_conv = 3\n",
    "\n",
    "# Vanilla SGD\n",
    "sgd = SGD(lr=0.1, decay=1e-6, momentum=0.9, nesterov=True)"
   ]
  },
  {
   "cell_type": "markdown",
   "metadata": {
    "slideshow": {
     "slide_type": "subslide"
    }
   },
   "source": [
    "#### Step 1: Model Definition"
   ]
  },
  {
   "cell_type": "code",
   "execution_count": 18,
   "metadata": {},
   "outputs": [
    {
     "name": "stdout",
     "output_type": "stream",
     "text": [
      "_________________________________________________________________\n",
      "Layer (type)                 Output Shape              Param #   \n",
      "=================================================================\n",
      "conv2d_1 (Conv2D)            (None, 26, 26, 32)        320       \n",
      "_________________________________________________________________\n",
      "activation_1 (Activation)    (None, 26, 26, 32)        0         \n",
      "_________________________________________________________________\n",
      "flatten_1 (Flatten)          (None, 21632)             0         \n",
      "_________________________________________________________________\n",
      "dense_1 (Dense)              (None, 10)                216330    \n",
      "_________________________________________________________________\n",
      "activation_2 (Activation)    (None, 10)                0         \n",
      "=================================================================\n",
      "Total params: 216,650\n",
      "Trainable params: 216,650\n",
      "Non-trainable params: 0\n",
      "_________________________________________________________________\n"
     ]
    }
   ],
   "source": [
    "model = Sequential()\n",
    "\n",
    "model.add(Conv2D(nb_filters, (nb_conv, nb_conv), padding='valid', \n",
    "                 input_shape=shape_ord))  # note: the very first layer **must** always specify the input_shape\n",
    "model.add(Activation('relu'))\n",
    "\n",
    "model.add(Flatten())\n",
    "model.add(Dense(nb_classes))\n",
    "model.add(Activation('softmax'))\n",
    "model.summary()"
   ]
  },
  {
   "cell_type": "markdown",
   "metadata": {
    "slideshow": {
     "slide_type": "subslide"
    }
   },
   "source": [
    "#### Step 2: Compile"
   ]
  },
  {
   "cell_type": "code",
   "execution_count": 19,
   "metadata": {},
   "outputs": [],
   "source": [
    "model.compile(loss='categorical_crossentropy',\n",
    "              optimizer=sgd,\n",
    "              metrics=['accuracy'])"
   ]
  },
  {
   "cell_type": "markdown",
   "metadata": {
    "slideshow": {
     "slide_type": "subslide"
    }
   },
   "source": [
    "#### Step 3: Fit"
   ]
  },
  {
   "cell_type": "code",
   "execution_count": 20,
   "metadata": {
    "scrolled": true
   },
   "outputs": [
    {
     "name": "stdout",
     "output_type": "stream",
     "text": [
      "Train on 60000 samples, validate on 10000 samples\n",
      "Epoch 1/20\n",
      "60000/60000 [==============================] - 22s - loss: 0.1662 - acc: 0.9507 - val_loss: 0.0783 - val_acc: 0.9752\n",
      "Epoch 2/20\n",
      "60000/60000 [==============================] - 20s - loss: 0.0677 - acc: 0.9797 - val_loss: 0.0816 - val_acc: 0.9755\n",
      "Epoch 3/20\n",
      "60000/60000 [==============================] - 20s - loss: 0.0482 - acc: 0.9849 - val_loss: 0.0662 - val_acc: 0.9786\n",
      "Epoch 4/20\n",
      "60000/60000 [==============================] - 20s - loss: 0.0357 - acc: 0.9887 - val_loss: 0.0756 - val_acc: 0.9786\n",
      "Epoch 5/20\n",
      "60000/60000 [==============================] - 20s - loss: 0.0251 - acc: 0.9919 - val_loss: 0.0811 - val_acc: 0.9765\n",
      "Epoch 6/20\n",
      "60000/60000 [==============================] - 20s - loss: 0.0164 - acc: 0.9949 - val_loss: 0.0701 - val_acc: 0.9815\n",
      "Epoch 7/20\n",
      "60000/60000 [==============================] - 20s - loss: 0.0133 - acc: 0.9956 - val_loss: 0.0838 - val_acc: 0.9793\n",
      "Epoch 8/20\n",
      "60000/60000 [==============================] - 20s - loss: 0.0090 - acc: 0.9972 - val_loss: 0.0772 - val_acc: 0.9804\n",
      "Epoch 9/20\n",
      "60000/60000 [==============================] - 20s - loss: 0.0063 - acc: 0.9981 - val_loss: 0.0766 - val_acc: 0.9817\n",
      "Epoch 10/20\n",
      "60000/60000 [==============================] - 20s - loss: 0.0036 - acc: 0.9992 - val_loss: 0.0835 - val_acc: 0.9828\n",
      "Epoch 11/20\n",
      "60000/60000 [==============================] - 20s - loss: 0.0025 - acc: 0.9995 - val_loss: 0.0869 - val_acc: 0.9807\n",
      "Epoch 12/20\n",
      "60000/60000 [==============================] - 20s - loss: 0.0012 - acc: 0.9999 - val_loss: 0.0875 - val_acc: 0.9831\n",
      "Epoch 13/20\n",
      "60000/60000 [==============================] - 20s - loss: 6.8169e-04 - acc: 1.0000 - val_loss: 0.0884 - val_acc: 0.9827\n",
      "Epoch 14/20\n",
      "60000/60000 [==============================] - 20s - loss: 5.3203e-04 - acc: 1.0000 - val_loss: 0.0892 - val_acc: 0.9833\n",
      "Epoch 15/20\n",
      "60000/60000 [==============================] - 20s - loss: 4.8383e-04 - acc: 1.0000 - val_loss: 0.0895 - val_acc: 0.9832\n",
      "Epoch 16/20\n",
      "60000/60000 [==============================] - 20s - loss: 4.5790e-04 - acc: 1.0000 - val_loss: 0.0909 - val_acc: 0.9833\n",
      "Epoch 17/20\n",
      "60000/60000 [==============================] - 20s - loss: 4.3741e-04 - acc: 1.0000 - val_loss: 0.0907 - val_acc: 0.9836\n",
      "Epoch 18/20\n",
      "60000/60000 [==============================] - 20s - loss: 4.2373e-04 - acc: 1.0000 - val_loss: 0.0915 - val_acc: 0.9835\n",
      "Epoch 19/20\n",
      "60000/60000 [==============================] - 20s - loss: 4.1196e-04 - acc: 1.0000 - val_loss: 0.0923 - val_acc: 0.9833\n",
      "Epoch 20/20\n",
      "60000/60000 [==============================] - 20s - loss: 4.0083e-04 - acc: 1.0000 - val_loss: 0.0929 - val_acc: 0.9835\n"
     ]
    }
   ],
   "source": [
    "hist = model.fit(X_train, Y_train, batch_size=batch_size, \n",
    "                 epochs=nb_epoch, verbose=1, \n",
    "                 validation_data=(X_test, Y_test))"
   ]
  },
  {
   "cell_type": "code",
   "execution_count": 21,
   "metadata": {},
   "outputs": [
    {
     "data": {
      "text/plain": [
       "<matplotlib.legend.Legend at 0x7fcfb85c1898>"
      ]
     },
     "execution_count": 21,
     "metadata": {},
     "output_type": "execute_result"
    },
    {
     "data": {
      "image/png": "[encoded data removed]",
      "text/plain": [
       "<matplotlib.figure.Figure at 0x7fcfbc7d8320>"
      ]
     },
     "metadata": {},
     "output_type": "display_data"
    },
    {
     "data": {
      "image/png": "[encoded data removed]",
      "text/plain": [
       "<matplotlib.figure.Figure at 0x7fcfb85f1518>"
      ]
     },
     "metadata": {},
     "output_type": "display_data"
    }
   ],
   "source": [
    "# import matplotlib.pyplot as plt\n",
    "# %matplotlib inline\n",
    "\n",
    "plt.figure()\n",
    "plt.xlabel('Epochs')\n",
    "plt.ylabel('Loss')\n",
    "plt.plot(hist.history['loss'])\n",
    "plt.plot(hist.history['val_loss'])\n",
    "plt.legend(['Training', 'Validation'])\n",
    "\n",
    "plt.figure()\n",
    "plt.xlabel('Epochs')\n",
    "plt.ylabel('Accuracy')\n",
    "plt.plot(hist.history['acc'])\n",
    "plt.plot(hist.history['val_acc'])\n",
    "plt.legend(['Training', 'Validation'], loc='lower right')"
   ]
  },
  {
   "cell_type": "markdown",
   "metadata": {
    "slideshow": {
     "slide_type": "subslide"
    }
   },
   "source": [
    "### Step 4: Evaluate"
   ]
  },
  {
   "cell_type": "code",
   "execution_count": 22,
   "metadata": {},
   "outputs": [
    {
     "name": "stdout",
     "output_type": "stream",
     "text": [
      "Available Metrics in Model: ['loss', 'acc']\n"
     ]
    }
   ],
   "source": [
    "print('Available Metrics in Model: {}'.format(model.metrics_names))"
   ]
  },
  {
   "cell_type": "code",
   "execution_count": 23,
   "metadata": {},
   "outputs": [
    {
     "name": "stdout",
     "output_type": "stream",
     "text": [
      "Test Loss: 0.0929218709099\n",
      "Test Accuracy: 0.9835\n"
     ]
    }
   ],
   "source": [
    "# Evaluating the model on the test data    \n",
    "loss, accuracy = model.evaluate(X_test, Y_test, verbose=0)\n",
    "print('Test Loss:', loss)\n",
    "print('Test Accuracy:', accuracy)"
   ]
  },
  {
   "cell_type": "markdown",
   "metadata": {
    "slideshow": {
     "slide_type": "subslide"
    }
   },
   "source": [
    "### Let's plot our model Predictions!"
   ]
  },
  {
   "cell_type": "code",
   "execution_count": 24,
   "metadata": {
    "slideshow": {
     "slide_type": "subslide"
    }
   },
   "outputs": [
    {
     "data": {
      "image/png": "[encoded data removed]",
      "text/plain": [
       "<matplotlib.figure.Figure at 0x7fcfb852cac8>"
      ]
     },
     "metadata": {},
     "output_type": "display_data"
    }
   ],
   "source": [
    "slice = 20\n",
    "predicted = model.predict(X_test[:slice]).argmax(-1)\n",
    "\n",
    "plt.figure(figsize=(16,8))\n",
    "for i in range(slice):\n",
    "    plt.subplot(1, slice, i+1)\n",
    "    plt.imshow(X_test_orig[i], interpolation='nearest')\n",
    "    plt.text(0, 0, predicted[i], color='black', \n",
    "             bbox=dict(facecolor='white', alpha=1))\n",
    "    plt.axis('off')"
   ]
  },
  {
   "cell_type": "markdown",
   "metadata": {
    "slideshow": {
     "slide_type": "slide"
    }
   },
   "source": [
    "# Adding more Dense Layers"
   ]
  },
  {
   "cell_type": "code",
   "execution_count": 25,
   "metadata": {
    "slideshow": {
     "slide_type": "subslide"
    }
   },
   "outputs": [
    {
     "name": "stdout",
     "output_type": "stream",
     "text": [
      "_________________________________________________________________\n",
      "Layer (type)                 Output Shape              Param #   \n",
      "=================================================================\n",
      "conv2d_2 (Conv2D)            (None, 26, 26, 32)        320       \n",
      "_________________________________________________________________\n",
      "activation_3 (Activation)    (None, 26, 26, 32)        0         \n",
      "_________________________________________________________________\n",
      "flatten_2 (Flatten)          (None, 21632)             0         \n",
      "_________________________________________________________________\n",
      "dense_2 (Dense)              (None, 128)               2769024   \n",
      "_________________________________________________________________\n",
      "activation_4 (Activation)    (None, 128)               0         \n",
      "_________________________________________________________________\n",
      "dense_3 (Dense)              (None, 10)                1290      \n",
      "_________________________________________________________________\n",
      "activation_5 (Activation)    (None, 10)                0         \n",
      "=================================================================\n",
      "Total params: 2,770,634\n",
      "Trainable params: 2,770,634\n",
      "Non-trainable params: 0\n",
      "_________________________________________________________________\n"
     ]
    }
   ],
   "source": [
    "model = Sequential()\n",
    "model.add(Conv2D(nb_filters, (nb_conv, nb_conv),\n",
    "                 padding='valid', input_shape=shape_ord))\n",
    "model.add(Activation('relu'))\n",
    "\n",
    "model.add(Flatten())\n",
    "model.add(Dense(128))\n",
    "model.add(Activation('relu'))\n",
    "\n",
    "model.add(Dense(nb_classes))\n",
    "model.add(Activation('softmax'))\n",
    "model.summary()"
   ]
  },
  {
   "cell_type": "code",
   "execution_count": 26,
   "metadata": {
    "scrolled": true,
    "slideshow": {
     "slide_type": "subslide"
    }
   },
   "outputs": [
    {
     "name": "stdout",
     "output_type": "stream",
     "text": [
      "Train on 60000 samples, validate on 10000 samples\n",
      "Epoch 1/20\n",
      "60000/60000 [==============================] - 22s - loss: 0.4825 - acc: 0.8743 - val_loss: 0.2789 - val_acc: 0.9173\n",
      "Epoch 2/20\n",
      "60000/60000 [==============================] - 22s - loss: 0.2376 - acc: 0.9315 - val_loss: 0.2125 - val_acc: 0.9387\n",
      "Epoch 3/20\n",
      "60000/60000 [==============================] - 22s - loss: 0.1855 - acc: 0.9467 - val_loss: 0.1669 - val_acc: 0.9510\n",
      "Epoch 4/20\n",
      "60000/60000 [==============================] - 22s - loss: 0.1528 - acc: 0.9554 - val_loss: 0.1325 - val_acc: 0.9611\n",
      "Epoch 5/20\n",
      "60000/60000 [==============================] - 22s - loss: 0.1301 - acc: 0.9624 - val_loss: 0.1321 - val_acc: 0.9590\n",
      "Epoch 6/20\n",
      "60000/60000 [==============================] - 22s - loss: 0.1137 - acc: 0.9671 - val_loss: 0.1093 - val_acc: 0.9680\n",
      "Epoch 7/20\n",
      "60000/60000 [==============================] - 22s - loss: 0.1012 - acc: 0.9708 - val_loss: 0.0986 - val_acc: 0.9698\n",
      "Epoch 8/20\n",
      "60000/60000 [==============================] - 22s - loss: 0.0911 - acc: 0.9732 - val_loss: 0.0929 - val_acc: 0.9724\n",
      "Epoch 9/20\n",
      "60000/60000 [==============================] - 22s - loss: 0.0824 - acc: 0.9762 - val_loss: 0.0859 - val_acc: 0.9750\n",
      "Epoch 10/20\n",
      "60000/60000 [==============================] - 22s - loss: 0.0758 - acc: 0.9769 - val_loss: 0.0795 - val_acc: 0.9764\n",
      "Epoch 11/20\n",
      "60000/60000 [==============================] - 22s - loss: 0.0696 - acc: 0.9800 - val_loss: 0.0773 - val_acc: 0.9766\n",
      "Epoch 12/20\n",
      "60000/60000 [==============================] - 22s - loss: 0.0655 - acc: 0.9806 - val_loss: 0.0799 - val_acc: 0.9746\n",
      "Epoch 13/20\n",
      "60000/60000 [==============================] - 22s - loss: 0.0603 - acc: 0.9822 - val_loss: 0.0816 - val_acc: 0.9761\n",
      "Epoch 14/20\n",
      "60000/60000 [==============================] - 22s - loss: 0.0561 - acc: 0.9831 - val_loss: 0.0748 - val_acc: 0.9762\n",
      "Epoch 15/20\n",
      "60000/60000 [==============================] - 22s - loss: 0.0540 - acc: 0.9835 - val_loss: 0.0751 - val_acc: 0.9771\n",
      "Epoch 16/20\n",
      "60000/60000 [==============================] - 22s - loss: 0.0499 - acc: 0.9851 - val_loss: 0.0723 - val_acc: 0.9785\n",
      "Epoch 17/20\n",
      "60000/60000 [==============================] - 22s - loss: 0.0473 - acc: 0.9861 - val_loss: 0.0717 - val_acc: 0.9795\n",
      "Epoch 18/20\n",
      "60000/60000 [==============================] - 22s - loss: 0.0451 - acc: 0.9867 - val_loss: 0.0721 - val_acc: 0.9789\n",
      "Epoch 19/20\n",
      "60000/60000 [==============================] - 22s - loss: 0.0429 - acc: 0.9873 - val_loss: 0.0822 - val_acc: 0.9750\n",
      "Epoch 20/20\n",
      "60000/60000 [==============================] - 22s - loss: 0.0405 - acc: 0.9879 - val_loss: 0.0659 - val_acc: 0.9797\n"
     ]
    }
   ],
   "source": [
    "model.compile(loss='categorical_crossentropy',\n",
    "              optimizer='sgd',\n",
    "              metrics=['accuracy'])\n",
    "\n",
    "hist = model.fit(X_train, Y_train, batch_size=batch_size, \n",
    "          epochs=nb_epoch,verbose=1,\n",
    "          validation_data=(X_test, Y_test))"
   ]
  },
  {
   "cell_type": "code",
   "execution_count": 27,
   "metadata": {},
   "outputs": [
    {
     "data": {
      "text/plain": [
       "<matplotlib.legend.Legend at 0x7fcfbd8d7dd8>"
      ]
     },
     "execution_count": 27,
     "metadata": {},
     "output_type": "execute_result"
    },
    {
     "data": {
      "image/png": "[encoded data removed]",
      "text/plain": [
       "<matplotlib.figure.Figure at 0x7fcfbd87eda0>"
      ]
     },
     "metadata": {},
     "output_type": "display_data"
    },
    {
     "data": {
      "image/png": "[encoded data removed]",
      "text/plain": [
       "<matplotlib.figure.Figure at 0x7fcfbd897b00>"
      ]
     },
     "metadata": {},
     "output_type": "display_data"
    }
   ],
   "source": [
    "# import matplotlib.pyplot as plt\n",
    "# %matplotlib inline\n",
    "\n",
    "plt.figure()\n",
    "plt.xlabel('Epochs')\n",
    "plt.ylabel('Loss')\n",
    "plt.plot(hist.history['loss'])\n",
    "plt.plot(hist.history['val_loss'])\n",
    "plt.legend(['Training', 'Validation'])\n",
    "\n",
    "plt.figure()\n",
    "plt.xlabel('Epochs')\n",
    "plt.ylabel('Accuracy')\n",
    "plt.plot(hist.history['acc'])\n",
    "plt.plot(hist.history['val_acc'])\n",
    "plt.legend(['Training', 'Validation'], loc='lower right')"
   ]
  },
  {
   "cell_type": "code",
   "execution_count": 28,
   "metadata": {
    "slideshow": {
     "slide_type": "subslide"
    }
   },
   "outputs": [
    {
     "name": "stdout",
     "output_type": "stream",
     "text": [
      "Test score: 0.0659397623455\n",
      "Test accuracy: 0.9797\n"
     ]
    }
   ],
   "source": [
    "#Evaluating the model on the test data    \n",
    "score, accuracy = model.evaluate(X_test, Y_test, verbose=0)\n",
    "print('Test score:', score)\n",
    "print('Test accuracy:', accuracy)"
   ]
  },
  {
   "cell_type": "code",
   "execution_count": 29,
   "metadata": {
    "slideshow": {
     "slide_type": "subslide"
    }
   },
   "outputs": [
    {
     "data": {
      "image/png": "[encoded data removed]",
      "text/plain": [
       "<matplotlib.figure.Figure at 0x7fcfbd87ec88>"
      ]
     },
     "metadata": {},
     "output_type": "display_data"
    }
   ],
   "source": [
    "slice = 20\n",
    "predicted = model.predict(X_test[:slice]).argmax(-1)\n",
    "\n",
    "plt.figure(figsize=(16,8))\n",
    "for i in range(slice):\n",
    "    plt.subplot(1, slice, i+1)\n",
    "    plt.imshow(X_test_orig[i], interpolation='nearest')\n",
    "    plt.text(0, 0, predicted[i], color='black', \n",
    "             bbox=dict(facecolor='white', alpha=1))\n",
    "    plt.axis('off')"
   ]
  },
  {
   "cell_type": "markdown",
   "metadata": {
    "slideshow": {
     "slide_type": "slide"
    }
   },
   "source": [
    "# Adding Dropout"
   ]
  },
  {
   "cell_type": "code",
   "execution_count": 30,
   "metadata": {
    "slideshow": {
     "slide_type": "subslide"
    }
   },
   "outputs": [
    {
     "name": "stdout",
     "output_type": "stream",
     "text": [
      "_________________________________________________________________\n",
      "Layer (type)                 Output Shape              Param #   \n",
      "=================================================================\n",
      "conv2d_3 (Conv2D)            (None, 26, 26, 32)        320       \n",
      "_________________________________________________________________\n",
      "activation_6 (Activation)    (None, 26, 26, 32)        0         \n",
      "_________________________________________________________________\n",
      "flatten_3 (Flatten)          (None, 21632)             0         \n",
      "_________________________________________________________________\n",
      "dense_4 (Dense)              (None, 128)               2769024   \n",
      "_________________________________________________________________\n",
      "activation_7 (Activation)    (None, 128)               0         \n",
      "_________________________________________________________________\n",
      "dropout_1 (Dropout)          (None, 128)               0         \n",
      "_________________________________________________________________\n",
      "dense_5 (Dense)              (None, 10)                1290      \n",
      "_________________________________________________________________\n",
      "activation_8 (Activation)    (None, 10)                0         \n",
      "=================================================================\n",
      "Total params: 2,770,634\n",
      "Trainable params: 2,770,634\n",
      "Non-trainable params: 0\n",
      "_________________________________________________________________\n"
     ]
    }
   ],
   "source": [
    "model = Sequential()\n",
    "\n",
    "model.add(Conv2D(nb_filters, (nb_conv, nb_conv),\n",
    "                        padding='valid',\n",
    "                        input_shape=shape_ord))\n",
    "model.add(Activation('relu'))\n",
    "\n",
    "model.add(Flatten())\n",
    "model.add(Dense(128))\n",
    "model.add(Activation('relu'))\n",
    "model.add(Dropout(0.5))\n",
    "model.add(Dense(nb_classes))\n",
    "model.add(Activation('softmax'))\n",
    "model.summary()"
   ]
  },
  {
   "cell_type": "code",
   "execution_count": 31,
   "metadata": {
    "scrolled": true,
    "slideshow": {
     "slide_type": "subslide"
    }
   },
   "outputs": [
    {
     "name": "stdout",
     "output_type": "stream",
     "text": [
      "Train on 60000 samples, validate on 10000 samples\n",
      "Epoch 1/20\n",
      "60000/60000 [==============================] - 23s - loss: 0.6322 - acc: 0.8171 - val_loss: 0.2592 - val_acc: 0.9258\n",
      "Epoch 2/20\n",
      "60000/60000 [==============================] - 23s - loss: 0.3303 - acc: 0.9036 - val_loss: 0.1945 - val_acc: 0.9429\n",
      "Epoch 3/20\n",
      "60000/60000 [==============================] - 23s - loss: 0.2710 - acc: 0.9214 - val_loss: 0.1619 - val_acc: 0.9532\n",
      "Epoch 4/20\n",
      "60000/60000 [==============================] - 23s - loss: 0.2409 - acc: 0.9310 - val_loss: 0.1425 - val_acc: 0.9578\n",
      "Epoch 5/20\n",
      "60000/60000 [==============================] - 23s - loss: 0.2231 - acc: 0.9350 - val_loss: 0.1306 - val_acc: 0.9617\n",
      "Epoch 6/20\n",
      "60000/60000 [==============================] - 23s - loss: 0.2050 - acc: 0.9399 - val_loss: 0.1211 - val_acc: 0.9644\n",
      "Epoch 7/20\n",
      "60000/60000 [==============================] - 23s - loss: 0.1983 - acc: 0.9416 - val_loss: 0.1139 - val_acc: 0.9669\n",
      "Epoch 8/20\n",
      "60000/60000 [==============================] - 23s - loss: 0.1886 - acc: 0.9445 - val_loss: 0.1087 - val_acc: 0.9685\n",
      "Epoch 9/20\n",
      "60000/60000 [==============================] - 23s - loss: 0.1781 - acc: 0.9482 - val_loss: 0.1033 - val_acc: 0.9695\n",
      "Epoch 10/20\n",
      "60000/60000 [==============================] - 23s - loss: 0.1729 - acc: 0.9495 - val_loss: 0.1009 - val_acc: 0.9711\n",
      "Epoch 11/20\n",
      "60000/60000 [==============================] - 23s - loss: 0.1681 - acc: 0.9505 - val_loss: 0.0975 - val_acc: 0.9712\n",
      "Epoch 12/20\n",
      "60000/60000 [==============================] - 23s - loss: 0.1637 - acc: 0.9511 - val_loss: 0.0971 - val_acc: 0.9699\n",
      "Epoch 13/20\n",
      "60000/60000 [==============================] - 23s - loss: 0.1577 - acc: 0.9525 - val_loss: 0.0914 - val_acc: 0.9727\n",
      "Epoch 14/20\n",
      "60000/60000 [==============================] - 23s - loss: 0.1547 - acc: 0.9539 - val_loss: 0.0891 - val_acc: 0.9739\n",
      "Epoch 15/20\n",
      "60000/60000 [==============================] - 23s - loss: 0.1466 - acc: 0.9559 - val_loss: 0.0900 - val_acc: 0.9723\n",
      "Epoch 16/20\n",
      "60000/60000 [==============================] - 23s - loss: 0.1438 - acc: 0.9581 - val_loss: 0.0869 - val_acc: 0.9745\n",
      "Epoch 17/20\n",
      "60000/60000 [==============================] - 23s - loss: 0.1422 - acc: 0.9582 - val_loss: 0.0875 - val_acc: 0.9735\n",
      "Epoch 18/20\n",
      "60000/60000 [==============================] - 23s - loss: 0.1396 - acc: 0.9572 - val_loss: 0.0811 - val_acc: 0.9759\n",
      "Epoch 19/20\n",
      "60000/60000 [==============================] - 23s - loss: 0.1393 - acc: 0.9584 - val_loss: 0.0802 - val_acc: 0.9768\n",
      "Epoch 20/20\n",
      "60000/60000 [==============================] - 23s - loss: 0.1372 - acc: 0.9588 - val_loss: 0.0793 - val_acc: 0.9764\n"
     ]
    }
   ],
   "source": [
    "model.compile(loss='categorical_crossentropy',\n",
    "              optimizer='sgd',\n",
    "              metrics=['accuracy'])\n",
    "\n",
    "hist = model.fit(X_train, Y_train, batch_size=batch_size, \n",
    "          epochs=nb_epoch,verbose=1,\n",
    "          validation_data=(X_test, Y_test))"
   ]
  },
  {
   "cell_type": "code",
   "execution_count": 32,
   "metadata": {},
   "outputs": [
    {
     "data": {
      "text/plain": [
       "<matplotlib.legend.Legend at 0x7fcfbd4a3780>"
      ]
     },
     "execution_count": 32,
     "metadata": {},
     "output_type": "execute_result"
    },
    {
     "data": {
      "image/png": "[encoded data removed]",
      "text/plain": [
       "<matplotlib.figure.Figure at 0x7fcfbd91ef98>"
      ]
     },
     "metadata": {},
     "output_type": "display_data"
    },
    {
     "data": {
      "image/png": "[encoded data removed]",
      "text/plain": [
       "<matplotlib.figure.Figure at 0x7fcfb85f1940>"
      ]
     },
     "metadata": {},
     "output_type": "display_data"
    }
   ],
   "source": [
    "# import matplotlib.pyplot as plt\n",
    "# %matplotlib inline\n",
    "\n",
    "plt.figure()\n",
    "plt.xlabel('Epochs')\n",
    "plt.ylabel('Loss')\n",
    "plt.plot(hist.history['loss'])\n",
    "plt.plot(hist.history['val_loss'])\n",
    "plt.legend(['Training', 'Validation'])\n",
    "\n",
    "plt.figure()\n",
    "plt.xlabel('Epochs')\n",
    "plt.ylabel('Accuracy')\n",
    "plt.plot(hist.history['acc'])\n",
    "plt.plot(hist.history['val_acc'])\n",
    "plt.legend(['Training', 'Validation'], loc='lower right')"
   ]
  },
  {
   "cell_type": "code",
   "execution_count": 33,
   "metadata": {
    "slideshow": {
     "slide_type": "subslide"
    }
   },
   "outputs": [
    {
     "name": "stdout",
     "output_type": "stream",
     "text": [
      "Test score: 0.0792893245731\n",
      "Test accuracy: 0.9764\n"
     ]
    }
   ],
   "source": [
    "#Evaluating the model on the test data    \n",
    "score, accuracy = model.evaluate(X_test, Y_test, verbose=0)\n",
    "print('Test score:', score)\n",
    "print('Test accuracy:', accuracy)"
   ]
  },
  {
   "cell_type": "code",
   "execution_count": 34,
   "metadata": {
    "slideshow": {
     "slide_type": "subslide"
    }
   },
   "outputs": [
    {
     "data": {
      "image/png": "[encoded data removed]",
      "text/plain": [
       "<matplotlib.figure.Figure at 0x7fcfbd91e278>"
      ]
     },
     "metadata": {},
     "output_type": "display_data"
    }
   ],
   "source": [
    "slice = 20\n",
    "predicted = model.predict(X_test[:slice]).argmax(-1)\n",
    "\n",
    "plt.figure(figsize=(16,8))\n",
    "for i in range(slice):\n",
    "    plt.subplot(1, slice, i+1)\n",
    "    plt.imshow(X_test_orig[i], interpolation='nearest')\n",
    "    plt.text(0, 0, predicted[i], color='black', \n",
    "             bbox=dict(facecolor='white', alpha=1))\n",
    "    plt.axis('off')"
   ]
  },
  {
   "cell_type": "markdown",
   "metadata": {
    "slideshow": {
     "slide_type": "slide"
    }
   },
   "source": [
    "# Adding more Convolution Layers"
   ]
  },
  {
   "cell_type": "code",
   "execution_count": 35,
   "metadata": {
    "slideshow": {
     "slide_type": "subslide"
    }
   },
   "outputs": [
    {
     "name": "stdout",
     "output_type": "stream",
     "text": [
      "_________________________________________________________________\n",
      "Layer (type)                 Output Shape              Param #   \n",
      "=================================================================\n",
      "conv2d_4 (Conv2D)            (None, 26, 26, 32)        320       \n",
      "_________________________________________________________________\n",
      "activation_9 (Activation)    (None, 26, 26, 32)        0         \n",
      "_________________________________________________________________\n",
      "conv2d_5 (Conv2D)            (None, 24, 24, 32)        9248      \n",
      "_________________________________________________________________\n",
      "activation_10 (Activation)   (None, 24, 24, 32)        0         \n",
      "_________________________________________________________________\n",
      "max_pooling2d_1 (MaxPooling2 (None, 12, 12, 32)        0         \n",
      "_________________________________________________________________\n",
      "dropout_2 (Dropout)          (None, 12, 12, 32)        0         \n",
      "_________________________________________________________________\n",
      "flatten_4 (Flatten)          (None, 4608)              0         \n",
      "_________________________________________________________________\n",
      "dense_6 (Dense)              (None, 128)               589952    \n",
      "_________________________________________________________________\n",
      "activation_11 (Activation)   (None, 128)               0         \n",
      "_________________________________________________________________\n",
      "dropout_3 (Dropout)          (None, 128)               0         \n",
      "_________________________________________________________________\n",
      "dense_7 (Dense)              (None, 10)                1290      \n",
      "_________________________________________________________________\n",
      "activation_12 (Activation)   (None, 10)                0         \n",
      "=================================================================\n",
      "Total params: 600,810\n",
      "Trainable params: 600,810\n",
      "Non-trainable params: 0\n",
      "_________________________________________________________________\n"
     ]
    }
   ],
   "source": [
    "model = Sequential()\n",
    "model.add(Conv2D(nb_filters, (nb_conv, nb_conv),\n",
    "                 padding='valid', input_shape=shape_ord))\n",
    "model.add(Activation('relu'))\n",
    "model.add(Conv2D(nb_filters, (nb_conv, nb_conv)))\n",
    "model.add(Activation('relu'))\n",
    "model.add(MaxPooling2D(pool_size=(nb_pool, nb_pool)))\n",
    "model.add(Dropout(0.25))\n",
    "    \n",
    "model.add(Flatten())\n",
    "model.add(Dense(128))\n",
    "model.add(Activation('relu'))\n",
    "model.add(Dropout(0.5))\n",
    "model.add(Dense(nb_classes))\n",
    "model.add(Activation('softmax'))\n",
    "model.summary()"
   ]
  },
  {
   "cell_type": "code",
   "execution_count": 36,
   "metadata": {
    "scrolled": true,
    "slideshow": {
     "slide_type": "subslide"
    }
   },
   "outputs": [
    {
     "name": "stdout",
     "output_type": "stream",
     "text": [
      "Train on 60000 samples, validate on 10000 samples\n",
      "Epoch 1/20\n",
      "60000/60000 [==============================] - 29s - loss: 0.9232 - acc: 0.7016 - val_loss: 0.2835 - val_acc: 0.9184\n",
      "Epoch 2/20\n",
      "60000/60000 [==============================] - 29s - loss: 0.3928 - acc: 0.8798 - val_loss: 0.1982 - val_acc: 0.9427\n",
      "Epoch 3/20\n",
      "60000/60000 [==============================] - 29s - loss: 0.3140 - acc: 0.9049 - val_loss: 0.1621 - val_acc: 0.9528\n",
      "Epoch 4/20\n",
      "60000/60000 [==============================] - 29s - loss: 0.2622 - acc: 0.9213 - val_loss: 0.1308 - val_acc: 0.9604\n",
      "Epoch 5/20\n",
      "60000/60000 [==============================] - 29s - loss: 0.2216 - acc: 0.9326 - val_loss: 0.1105 - val_acc: 0.9665\n",
      "Epoch 6/20\n",
      "60000/60000 [==============================] - 29s - loss: 0.1954 - acc: 0.9415 - val_loss: 0.0959 - val_acc: 0.9706\n",
      "Epoch 7/20\n",
      "60000/60000 [==============================] - 29s - loss: 0.1741 - acc: 0.9473 - val_loss: 0.0849 - val_acc: 0.9741\n",
      "Epoch 8/20\n",
      "60000/60000 [==============================] - 30s - loss: 0.1591 - acc: 0.9528 - val_loss: 0.0762 - val_acc: 0.9754\n",
      "Epoch 9/20\n",
      "60000/60000 [==============================] - 29s - loss: 0.1444 - acc: 0.9557 - val_loss: 0.0716 - val_acc: 0.9778\n",
      "Epoch 10/20\n",
      "60000/60000 [==============================] - 29s - loss: 0.1370 - acc: 0.9584 - val_loss: 0.0652 - val_acc: 0.9784\n",
      "Epoch 11/20\n",
      "60000/60000 [==============================] - 29s - loss: 0.1275 - acc: 0.9615 - val_loss: 0.0627 - val_acc: 0.9798\n",
      "Epoch 12/20\n",
      "60000/60000 [==============================] - 29s - loss: 0.1218 - acc: 0.9625 - val_loss: 0.0578 - val_acc: 0.9824\n",
      "Epoch 13/20\n",
      "60000/60000 [==============================] - 29s - loss: 0.1134 - acc: 0.9666 - val_loss: 0.0556 - val_acc: 0.9817\n",
      "Epoch 14/20\n",
      "60000/60000 [==============================] - 29s - loss: 0.1075 - acc: 0.9677 - val_loss: 0.0540 - val_acc: 0.9824\n",
      "Epoch 15/20\n",
      "60000/60000 [==============================] - 29s - loss: 0.1014 - acc: 0.9692 - val_loss: 0.0517 - val_acc: 0.9834\n",
      "Epoch 16/20\n",
      "60000/60000 [==============================] - 30s - loss: 0.0984 - acc: 0.9700 - val_loss: 0.0501 - val_acc: 0.9840\n",
      "Epoch 17/20\n",
      "60000/60000 [==============================] - 29s - loss: 0.0986 - acc: 0.9695 - val_loss: 0.0476 - val_acc: 0.9854\n",
      "Epoch 18/20\n",
      "60000/60000 [==============================] - 29s - loss: 0.0922 - acc: 0.9719 - val_loss: 0.0464 - val_acc: 0.9852\n",
      "Epoch 19/20\n",
      "60000/60000 [==============================] - 29s - loss: 0.0892 - acc: 0.9734 - val_loss: 0.0451 - val_acc: 0.9855\n",
      "Epoch 20/20\n",
      "60000/60000 [==============================] - 29s - loss: 0.0844 - acc: 0.9748 - val_loss: 0.0457 - val_acc: 0.9855\n"
     ]
    }
   ],
   "source": [
    "model.compile(loss='categorical_crossentropy',\n",
    "              optimizer='sgd',\n",
    "              metrics=['accuracy'])\n",
    "\n",
    "hist = model.fit(X_train, Y_train, batch_size=batch_size, \n",
    "          epochs=nb_epoch,verbose=1,\n",
    "          validation_data=(X_test, Y_test))"
   ]
  },
  {
   "cell_type": "code",
   "execution_count": 37,
   "metadata": {},
   "outputs": [
    {
     "data": {
      "text/plain": [
       "<matplotlib.legend.Legend at 0x7fcfb3e38630>"
      ]
     },
     "execution_count": 37,
     "metadata": {},
     "output_type": "execute_result"
    },
    {
     "data": {
      "image/png": "[encoded data removed]",
      "text/plain": [
       "<matplotlib.figure.Figure at 0x7fcfb3eb1fd0>"
      ]
     },
     "metadata": {},
     "output_type": "display_data"
    },
    {
     "data": {
      "image/png": "[encoded data removed]",
      "text/plain": [
       "<matplotlib.figure.Figure at 0x7fcfb3e7fb00>"
      ]
     },
     "metadata": {},
     "output_type": "display_data"
    }
   ],
   "source": [
    "# import matplotlib.pyplot as plt\n",
    "# %matplotlib inline\n",
    "\n",
    "plt.figure()\n",
    "plt.xlabel('Epochs')\n",
    "plt.ylabel('Loss')\n",
    "plt.plot(hist.history['loss'])\n",
    "plt.plot(hist.history['val_loss'])\n",
    "plt.legend(['Training', 'Validation'])\n",
    "\n",
    "plt.figure()\n",
    "plt.xlabel('Epochs')\n",
    "plt.ylabel('Accuracy')\n",
    "plt.plot(hist.history['acc'])\n",
    "plt.plot(hist.history['val_acc'])\n",
    "plt.legend(['Training', 'Validation'], loc='lower right')"
   ]
  },
  {
   "cell_type": "code",
   "execution_count": 38,
   "metadata": {},
   "outputs": [
    {
     "name": "stdout",
     "output_type": "stream",
     "text": [
      "Test score: 0.0457361380112\n",
      "Test accuracy: 0.9855\n"
     ]
    }
   ],
   "source": [
    "#Evaluating the model on the test data    \n",
    "score, accuracy = model.evaluate(X_test, Y_test, verbose=0)\n",
    "print('Test score:', score)\n",
    "print('Test accuracy:', accuracy)"
   ]
  },
  {
   "cell_type": "code",
   "execution_count": 39,
   "metadata": {
    "scrolled": true,
    "slideshow": {
     "slide_type": "subslide"
    }
   },
   "outputs": [
    {
     "data": {
      "image/png": "[encoded data removed]",
      "text/plain": [
       "<matplotlib.figure.Figure at 0x7fcfb3e1a748>"
      ]
     },
     "metadata": {},
     "output_type": "display_data"
    }
   ],
   "source": [
    "slice = 20\n",
    "predicted = model.predict(X_test[:slice]).argmax(-1)\n",
    "\n",
    "plt.figure(figsize=(16,8))\n",
    "for i in range(slice):\n",
    "    plt.subplot(1, slice, i+1)\n",
    "    plt.imshow(X_test_orig[i], interpolation='nearest')\n",
    "    plt.text(0, 0, predicted[i], color='black', \n",
    "             bbox=dict(facecolor='white', alpha=1))\n",
    "    plt.axis('off')"
   ]
  },
  {
   "cell_type": "markdown",
   "metadata": {},
   "source": [
    "# Exercise\n",
    "\n",
    "The above code has been written as a function. \n",
    "\n",
    "Change some of the **hyperparameters** and see what happens. "
   ]
  },
  {
   "cell_type": "code",
   "execution_count": 40,
   "metadata": {},
   "outputs": [],
   "source": [
    "nb_epoch = 100"
   ]
  },
  {
   "cell_type": "code",
   "execution_count": 41,
   "metadata": {
    "slideshow": {
     "slide_type": "skip"
    }
   },
   "outputs": [],
   "source": [
    "# Function for constructing the convolution neural network\n",
    "# Feel free to add parameters, if you want\n",
    "\n",
    "def build_model():\n",
    "    \"\"\"\"\"\"\n",
    "    model = Sequential()\n",
    "    model.add(Conv2D(nb_filters, (nb_conv, nb_conv), \n",
    "                     padding='valid',\n",
    "                     input_shape=shape_ord))\n",
    "    model.add(Activation('relu'))\n",
    "    model.add(Conv2D(nb_filters, (nb_conv, nb_conv)))\n",
    "    model.add(Activation('relu'))\n",
    "    model.add(MaxPooling2D(pool_size=(nb_pool, nb_pool)))\n",
    "    model.add(Dropout(0.25))\n",
    "    \n",
    "    model.add(Flatten())\n",
    "    model.add(Dense(128))\n",
    "    model.add(Activation('relu'))\n",
    "    model.add(Dropout(0.5))\n",
    "    model.add(Dense(nb_classes))\n",
    "    model.add(Activation('softmax'))\n",
    "    model.summary()\n",
    "    \n",
    "    model.compile(loss='categorical_crossentropy',\n",
    "              optimizer='sgd',\n",
    "              metrics=['accuracy'])\n",
    "    hist = model.fit(X_train, Y_train, batch_size=batch_size, \n",
    "              epochs=nb_epoch,verbose=1,\n",
    "              validation_data=(X_test, Y_test))\n",
    "          \n",
    "\n",
    "    #Evaluating the model on the test data    \n",
    "    score, accuracy = model.evaluate(X_test, Y_test, verbose=0)\n",
    "    print('Test score:', score)\n",
    "    print('Test accuracy:', accuracy)\n",
    "    return hist, model"
   ]
  },
  {
   "cell_type": "code",
   "execution_count": 42,
   "metadata": {
    "scrolled": true
   },
   "outputs": [
    {
     "name": "stdout",
     "output_type": "stream",
     "text": [
      "_________________________________________________________________\n",
      "Layer (type)                 Output Shape              Param #   \n",
      "=================================================================\n",
      "conv2d_6 (Conv2D)            (None, 26, 26, 32)        320       \n",
      "_________________________________________________________________\n",
      "activation_13 (Activation)   (None, 26, 26, 32)        0         \n",
      "_________________________________________________________________\n",
      "conv2d_7 (Conv2D)            (None, 24, 24, 32)        9248      \n",
      "_________________________________________________________________\n",
      "activation_14 (Activation)   (None, 24, 24, 32)        0         \n",
      "_________________________________________________________________\n",
      "max_pooling2d_2 (MaxPooling2 (None, 12, 12, 32)        0         \n",
      "_________________________________________________________________\n",
      "dropout_4 (Dropout)          (None, 12, 12, 32)        0         \n",
      "_________________________________________________________________\n",
      "flatten_5 (Flatten)          (None, 4608)              0         \n",
      "_________________________________________________________________\n",
      "dense_8 (Dense)              (None, 128)               589952    \n",
      "_________________________________________________________________\n",
      "activation_15 (Activation)   (None, 128)               0         \n",
      "_________________________________________________________________\n",
      "dropout_5 (Dropout)          (None, 128)               0         \n",
      "_________________________________________________________________\n",
      "dense_9 (Dense)              (None, 10)                1290      \n",
      "_________________________________________________________________\n",
      "activation_16 (Activation)   (None, 10)                0         \n",
      "=================================================================\n",
      "Total params: 600,810\n",
      "Trainable params: 600,810\n",
      "Non-trainable params: 0\n",
      "_________________________________________________________________\n",
      "Train on 60000 samples, validate on 10000 samples\n",
      "Epoch 1/100\n",
      "60000/60000 [==============================] - 29s - loss: 0.9038 - acc: 0.7055 - val_loss: 0.2763 - val_acc: 0.9209\n",
      "Epoch 2/100\n",
      "60000/60000 [==============================] - 29s - loss: 0.4007 - acc: 0.8782 - val_loss: 0.2037 - val_acc: 0.9412\n",
      "Epoch 3/100\n",
      "60000/60000 [==============================] - 29s - loss: 0.3280 - acc: 0.9003 - val_loss: 0.1665 - val_acc: 0.9502\n",
      "Epoch 4/100\n",
      "60000/60000 [==============================] - 30s - loss: 0.2779 - acc: 0.9163 - val_loss: 0.1403 - val_acc: 0.9590\n",
      "Epoch 5/100\n",
      "60000/60000 [==============================] - 29s - loss: 0.2434 - acc: 0.9273 - val_loss: 0.1213 - val_acc: 0.9662\n",
      "Epoch 6/100\n",
      "60000/60000 [==============================] - 29s - loss: 0.2118 - acc: 0.9377 - val_loss: 0.1083 - val_acc: 0.9673\n",
      "Epoch 7/100\n",
      "60000/60000 [==============================] - 29s - loss: 0.1921 - acc: 0.9433 - val_loss: 0.0918 - val_acc: 0.9716\n",
      "Epoch 8/100\n",
      "60000/60000 [==============================] - 29s - loss: 0.1716 - acc: 0.9486 - val_loss: 0.0854 - val_acc: 0.9735\n",
      "Epoch 9/100\n",
      "60000/60000 [==============================] - 29s - loss: 0.1554 - acc: 0.9532 - val_loss: 0.0745 - val_acc: 0.9770\n",
      "Epoch 10/100\n",
      "60000/60000 [==============================] - 29s - loss: 0.1453 - acc: 0.9560 - val_loss: 0.0688 - val_acc: 0.9780\n",
      "Epoch 11/100\n",
      "60000/60000 [==============================] - 29s - loss: 0.1331 - acc: 0.9599 - val_loss: 0.0639 - val_acc: 0.9795\n",
      "Epoch 12/100\n",
      "60000/60000 [==============================] - 29s - loss: 0.1277 - acc: 0.9614 - val_loss: 0.0596 - val_acc: 0.9806\n",
      "Epoch 13/100\n",
      "60000/60000 [==============================] - 30s - loss: 0.1170 - acc: 0.9641 - val_loss: 0.0577 - val_acc: 0.9813\n",
      "Epoch 14/100\n",
      "60000/60000 [==============================] - 29s - loss: 0.1130 - acc: 0.9665 - val_loss: 0.0536 - val_acc: 0.9824\n",
      "Epoch 15/100\n",
      "60000/60000 [==============================] - 29s - loss: 0.1062 - acc: 0.9679 - val_loss: 0.0520 - val_acc: 0.9827\n",
      "Epoch 16/100\n",
      "60000/60000 [==============================] - 29s - loss: 0.1005 - acc: 0.9697 - val_loss: 0.0491 - val_acc: 0.9838\n",
      "Epoch 17/100\n",
      "60000/60000 [==============================] - 29s - loss: 0.0951 - acc: 0.9705 - val_loss: 0.0479 - val_acc: 0.9842\n",
      "Epoch 18/100\n",
      "60000/60000 [==============================] - 29s - loss: 0.0906 - acc: 0.9726 - val_loss: 0.0457 - val_acc: 0.9844\n",
      "Epoch 19/100\n",
      "60000/60000 [==============================] - 29s - loss: 0.0884 - acc: 0.9733 - val_loss: 0.0444 - val_acc: 0.9848\n",
      "Epoch 20/100\n",
      "60000/60000 [==============================] - 29s - loss: 0.0853 - acc: 0.9746 - val_loss: 0.0435 - val_acc: 0.9855\n",
      "Epoch 21/100\n",
      "60000/60000 [==============================] - 30s - loss: 0.0843 - acc: 0.9751 - val_loss: 0.0408 - val_acc: 0.9852\n",
      "Epoch 22/100\n",
      "60000/60000 [==============================] - 29s - loss: 0.0799 - acc: 0.9762 - val_loss: 0.0399 - val_acc: 0.9859\n",
      "Epoch 23/100\n",
      "60000/60000 [==============================] - 29s - loss: 0.0767 - acc: 0.9769 - val_loss: 0.0395 - val_acc: 0.9870\n",
      "Epoch 24/100\n",
      "60000/60000 [==============================] - 29s - loss: 0.0729 - acc: 0.9779 - val_loss: 0.0382 - val_acc: 0.9866\n",
      "Epoch 25/100\n",
      "60000/60000 [==============================] - 29s - loss: 0.0715 - acc: 0.9785 - val_loss: 0.0378 - val_acc: 0.9866\n",
      "Epoch 26/100\n",
      "60000/60000 [==============================] - 29s - loss: 0.0701 - acc: 0.9786 - val_loss: 0.0369 - val_acc: 0.9873\n",
      "Epoch 27/100\n",
      "60000/60000 [==============================] - 29s - loss: 0.0679 - acc: 0.9796 - val_loss: 0.0365 - val_acc: 0.9867\n",
      "Epoch 28/100\n",
      "60000/60000 [==============================] - 29s - loss: 0.0664 - acc: 0.9802 - val_loss: 0.0370 - val_acc: 0.9868\n",
      "Epoch 29/100\n",
      "60000/60000 [==============================] - 29s - loss: 0.0643 - acc: 0.9808 - val_loss: 0.0369 - val_acc: 0.9875\n",
      "Epoch 30/100\n",
      "60000/60000 [==============================] - 30s - loss: 0.0629 - acc: 0.9804 - val_loss: 0.0348 - val_acc: 0.9878\n",
      "Epoch 31/100\n",
      "60000/60000 [==============================] - 29s - loss: 0.0630 - acc: 0.9809 - val_loss: 0.0355 - val_acc: 0.9868\n",
      "Epoch 32/100\n",
      "60000/60000 [==============================] - 29s - loss: 0.0601 - acc: 0.9810 - val_loss: 0.0340 - val_acc: 0.9881\n",
      "Epoch 33/100\n",
      "60000/60000 [==============================] - 29s - loss: 0.0585 - acc: 0.9822 - val_loss: 0.0340 - val_acc: 0.9879\n",
      "Epoch 34/100\n",
      "60000/60000 [==============================] - 30s - loss: 0.0588 - acc: 0.9821 - val_loss: 0.0341 - val_acc: 0.9884\n",
      "Epoch 35/100\n",
      "60000/60000 [==============================] - 29s - loss: 0.0561 - acc: 0.9820 - val_loss: 0.0331 - val_acc: 0.9882\n",
      "Epoch 36/100\n",
      "60000/60000 [==============================] - 29s - loss: 0.0544 - acc: 0.9826 - val_loss: 0.0324 - val_acc: 0.9883\n",
      "Epoch 37/100\n",
      "60000/60000 [==============================] - 29s - loss: 0.0537 - acc: 0.9829 - val_loss: 0.0333 - val_acc: 0.9885\n",
      "Epoch 38/100\n",
      "60000/60000 [==============================] - 30s - loss: 0.0541 - acc: 0.9829 - val_loss: 0.0319 - val_acc: 0.9888\n",
      "Epoch 39/100\n",
      "60000/60000 [==============================] - 29s - loss: 0.0518 - acc: 0.9839 - val_loss: 0.0313 - val_acc: 0.9886\n",
      "Epoch 40/100\n",
      "60000/60000 [==============================] - 29s - loss: 0.0495 - acc: 0.9844 - val_loss: 0.0313 - val_acc: 0.9893\n",
      "Epoch 41/100\n",
      "60000/60000 [==============================] - 29s - loss: 0.0495 - acc: 0.9837 - val_loss: 0.0322 - val_acc: 0.9885\n",
      "Epoch 42/100\n",
      "60000/60000 [==============================] - 29s - loss: 0.0496 - acc: 0.9848 - val_loss: 0.0315 - val_acc: 0.9898\n",
      "Epoch 43/100\n",
      "60000/60000 [==============================] - 29s - loss: 0.0497 - acc: 0.9849 - val_loss: 0.0305 - val_acc: 0.9897\n",
      "Epoch 44/100\n",
      "60000/60000 [==============================] - 29s - loss: 0.0488 - acc: 0.9846 - val_loss: 0.0308 - val_acc: 0.9903\n",
      "Epoch 45/100\n",
      "60000/60000 [==============================] - 29s - loss: 0.0476 - acc: 0.9851 - val_loss: 0.0306 - val_acc: 0.9890\n",
      "Epoch 46/100\n",
      "60000/60000 [==============================] - 29s - loss: 0.0454 - acc: 0.9854 - val_loss: 0.0305 - val_acc: 0.9892\n",
      "Epoch 47/100\n",
      "60000/60000 [==============================] - 29s - loss: 0.0451 - acc: 0.9857 - val_loss: 0.0307 - val_acc: 0.9894\n",
      "Epoch 48/100\n"
     ]
    },
    {
     "name": "stdout",
     "output_type": "stream",
     "text": [
      "60000/60000 [==============================] - 29s - loss: 0.0440 - acc: 0.9861 - val_loss: 0.0298 - val_acc: 0.9901\n",
      "Epoch 49/100\n",
      "60000/60000 [==============================] - 29s - loss: 0.0423 - acc: 0.9866 - val_loss: 0.0293 - val_acc: 0.9897\n",
      "Epoch 50/100\n",
      "60000/60000 [==============================] - 29s - loss: 0.0412 - acc: 0.9866 - val_loss: 0.0285 - val_acc: 0.9903\n",
      "Epoch 51/100\n",
      "60000/60000 [==============================] - 29s - loss: 0.0408 - acc: 0.9870 - val_loss: 0.0285 - val_acc: 0.9907\n",
      "Epoch 52/100\n",
      "60000/60000 [==============================] - 29s - loss: 0.0419 - acc: 0.9859 - val_loss: 0.0286 - val_acc: 0.9897\n",
      "Epoch 53/100\n",
      "60000/60000 [==============================] - 29s - loss: 0.0402 - acc: 0.9875 - val_loss: 0.0284 - val_acc: 0.9903\n",
      "Epoch 54/100\n",
      "60000/60000 [==============================] - 29s - loss: 0.0413 - acc: 0.9875 - val_loss: 0.0292 - val_acc: 0.9904\n",
      "Epoch 55/100\n",
      "60000/60000 [==============================] - 29s - loss: 0.0386 - acc: 0.9880 - val_loss: 0.0297 - val_acc: 0.9904\n",
      "Epoch 56/100\n",
      "60000/60000 [==============================] - 29s - loss: 0.0394 - acc: 0.9879 - val_loss: 0.0283 - val_acc: 0.9904\n",
      "Epoch 57/100\n",
      "60000/60000 [==============================] - 29s - loss: 0.0388 - acc: 0.9878 - val_loss: 0.0295 - val_acc: 0.9900\n",
      "Epoch 58/100\n",
      "60000/60000 [==============================] - 29s - loss: 0.0374 - acc: 0.9877 - val_loss: 0.0302 - val_acc: 0.9906\n",
      "Epoch 59/100\n",
      "60000/60000 [==============================] - 29s - loss: 0.0374 - acc: 0.9879 - val_loss: 0.0308 - val_acc: 0.9899\n",
      "Epoch 60/100\n",
      "60000/60000 [==============================] - 29s - loss: 0.0367 - acc: 0.9886 - val_loss: 0.0289 - val_acc: 0.9903\n",
      "Epoch 61/100\n",
      "60000/60000 [==============================] - 29s - loss: 0.0361 - acc: 0.9880 - val_loss: 0.0297 - val_acc: 0.9903\n",
      "Epoch 62/100\n",
      "60000/60000 [==============================] - 29s - loss: 0.0348 - acc: 0.9885 - val_loss: 0.0278 - val_acc: 0.9908\n",
      "Epoch 63/100\n",
      "60000/60000 [==============================] - 30s - loss: 0.0345 - acc: 0.9890 - val_loss: 0.0291 - val_acc: 0.9913\n",
      "Epoch 64/100\n",
      "60000/60000 [==============================] - 29s - loss: 0.0338 - acc: 0.9894 - val_loss: 0.0290 - val_acc: 0.9904\n",
      "Epoch 65/100\n",
      "60000/60000 [==============================] - 29s - loss: 0.0349 - acc: 0.9889 - val_loss: 0.0282 - val_acc: 0.9910\n",
      "Epoch 66/100\n",
      "60000/60000 [==============================] - 29s - loss: 0.0336 - acc: 0.9893 - val_loss: 0.0288 - val_acc: 0.9913\n",
      "Epoch 67/100\n",
      "60000/60000 [==============================] - 29s - loss: 0.0326 - acc: 0.9897 - val_loss: 0.0277 - val_acc: 0.9923\n",
      "Epoch 68/100\n",
      "60000/60000 [==============================] - 29s - loss: 0.0332 - acc: 0.9893 - val_loss: 0.0276 - val_acc: 0.9918\n",
      "Epoch 69/100\n",
      "60000/60000 [==============================] - 29s - loss: 0.0345 - acc: 0.9895 - val_loss: 0.0270 - val_acc: 0.9916\n",
      "Epoch 70/100\n",
      "60000/60000 [==============================] - 29s - loss: 0.0325 - acc: 0.9898 - val_loss: 0.0289 - val_acc: 0.9909\n",
      "Epoch 71/100\n",
      "60000/60000 [==============================] - 29s - loss: 0.0314 - acc: 0.9900 - val_loss: 0.0300 - val_acc: 0.9907\n",
      "Epoch 72/100\n",
      "60000/60000 [==============================] - 29s - loss: 0.0323 - acc: 0.9894 - val_loss: 0.0290 - val_acc: 0.9910\n",
      "Epoch 73/100\n",
      "60000/60000 [==============================] - 29s - loss: 0.0294 - acc: 0.9903 - val_loss: 0.0286 - val_acc: 0.9913\n",
      "Epoch 74/100\n",
      "60000/60000 [==============================] - 29s - loss: 0.0328 - acc: 0.9893 - val_loss: 0.0292 - val_acc: 0.9912\n",
      "Epoch 75/100\n",
      "60000/60000 [==============================] - 29s - loss: 0.0297 - acc: 0.9904 - val_loss: 0.0281 - val_acc: 0.9913\n",
      "Epoch 76/100\n",
      "60000/60000 [==============================] - 29s - loss: 0.0309 - acc: 0.9896 - val_loss: 0.0285 - val_acc: 0.9914\n",
      "Epoch 77/100\n",
      "60000/60000 [==============================] - 29s - loss: 0.0308 - acc: 0.9899 - val_loss: 0.0270 - val_acc: 0.9917\n",
      "Epoch 78/100\n",
      "60000/60000 [==============================] - 29s - loss: 0.0300 - acc: 0.9900 - val_loss: 0.0275 - val_acc: 0.9916\n",
      "Epoch 79/100\n",
      "60000/60000 [==============================] - 29s - loss: 0.0297 - acc: 0.9902 - val_loss: 0.0287 - val_acc: 0.9912\n",
      "Epoch 80/100\n",
      "60000/60000 [==============================] - 29s - loss: 0.0291 - acc: 0.9903 - val_loss: 0.0289 - val_acc: 0.9909\n",
      "Epoch 81/100\n",
      "60000/60000 [==============================] - 29s - loss: 0.0290 - acc: 0.9906 - val_loss: 0.0292 - val_acc: 0.9909\n",
      "Epoch 82/100\n",
      "60000/60000 [==============================] - 29s - loss: 0.0274 - acc: 0.9911 - val_loss: 0.0282 - val_acc: 0.9915\n",
      "Epoch 83/100\n",
      "60000/60000 [==============================] - 29s - loss: 0.0285 - acc: 0.9907 - val_loss: 0.0288 - val_acc: 0.9914\n",
      "Epoch 84/100\n",
      "60000/60000 [==============================] - 30s - loss: 0.0276 - acc: 0.9912 - val_loss: 0.0284 - val_acc: 0.9916\n",
      "Epoch 85/100\n",
      "60000/60000 [==============================] - 29s - loss: 0.0267 - acc: 0.9916 - val_loss: 0.0277 - val_acc: 0.9917\n",
      "Epoch 86/100\n",
      "60000/60000 [==============================] - 29s - loss: 0.0277 - acc: 0.9905 - val_loss: 0.0289 - val_acc: 0.9915\n",
      "Epoch 87/100\n",
      "60000/60000 [==============================] - 29s - loss: 0.0270 - acc: 0.9908 - val_loss: 0.0280 - val_acc: 0.9920\n",
      "Epoch 88/100\n",
      "60000/60000 [==============================] - 29s - loss: 0.0276 - acc: 0.9909 - val_loss: 0.0282 - val_acc: 0.9912\n",
      "Epoch 89/100\n",
      "60000/60000 [==============================] - 29s - loss: 0.0262 - acc: 0.9912 - val_loss: 0.0278 - val_acc: 0.9911\n",
      "Epoch 90/100\n",
      "60000/60000 [==============================] - 29s - loss: 0.0267 - acc: 0.9910 - val_loss: 0.0273 - val_acc: 0.9920\n",
      "Epoch 91/100\n",
      "60000/60000 [==============================] - 29s - loss: 0.0271 - acc: 0.9913 - val_loss: 0.0286 - val_acc: 0.9918\n",
      "Epoch 92/100\n",
      "60000/60000 [==============================] - 29s - loss: 0.0259 - acc: 0.9914 - val_loss: 0.0299 - val_acc: 0.9911\n",
      "Epoch 93/100\n",
      "60000/60000 [==============================] - 30s - loss: 0.0248 - acc: 0.9921 - val_loss: 0.0278 - val_acc: 0.9914\n",
      "Epoch 94/100\n",
      "60000/60000 [==============================] - 29s - loss: 0.0262 - acc: 0.9912 - val_loss: 0.0289 - val_acc: 0.9914\n",
      "Epoch 95/100\n",
      "60000/60000 [==============================] - 29s - loss: 0.0253 - acc: 0.9917 - val_loss: 0.0291 - val_acc: 0.9912\n",
      "Epoch 96/100\n",
      "60000/60000 [==============================] - 29s - loss: 0.0253 - acc: 0.9918 - val_loss: 0.0284 - val_acc: 0.9914\n",
      "Epoch 97/100\n",
      "60000/60000 [==============================] - 29s - loss: 0.0243 - acc: 0.9921 - val_loss: 0.0278 - val_acc: 0.9914\n",
      "Epoch 98/100\n",
      "60000/60000 [==============================] - 29s - loss: 0.0239 - acc: 0.9920 - val_loss: 0.0284 - val_acc: 0.9914\n",
      "Epoch 99/100\n",
      "60000/60000 [==============================] - 29s - loss: 0.0228 - acc: 0.9925 - val_loss: 0.0284 - val_acc: 0.9916\n",
      "Epoch 100/100\n",
      "60000/60000 [==============================] - 29s - loss: 0.0240 - acc: 0.9921 - val_loss: 0.0289 - val_acc: 0.9914\n",
      "Test score: 0.0288531594841\n",
      "Test accuracy: 0.9914\n"
     ]
    }
   ],
   "source": [
    "# Train and test model in one shot\n",
    "hist, model = build_model()"
   ]
  },
  {
   "cell_type": "code",
   "execution_count": 43,
   "metadata": {},
   "outputs": [
    {
     "data": {
      "text/plain": [
       "<matplotlib.legend.Legend at 0x7fcfb38ceb38>"
      ]
     },
     "execution_count": 43,
     "metadata": {},
     "output_type": "execute_result"
    },
    {
     "data": {
      "image/png": "[encoded data removed]",
      "text/plain": [
       "<matplotlib.figure.Figure at 0x7fcfb39729e8>"
      ]
     },
     "metadata": {},
     "output_type": "display_data"
    },
    {
     "data": {
      "image/png": "[encoded data removed]",
      "text/plain": [
       "<matplotlib.figure.Figure at 0x7fcfb3916c18>"
      ]
     },
     "metadata": {},
     "output_type": "display_data"
    }
   ],
   "source": [
    "# import matplotlib.pyplot as plt\n",
    "# %matplotlib inline\n",
    "\n",
    "plt.figure()\n",
    "plt.xlabel('Epochs')\n",
    "plt.ylabel('Loss')\n",
    "plt.plot(hist.history['loss'])\n",
    "plt.plot(hist.history['val_loss'])\n",
    "plt.legend(['Training', 'Validation'])\n",
    "\n",
    "plt.figure()\n",
    "plt.xlabel('Epochs')\n",
    "plt.ylabel('Accuracy')\n",
    "plt.plot(hist.history['acc'])\n",
    "plt.plot(hist.history['val_acc'])\n",
    "plt.legend(['Training', 'Validation'], loc='lower right')"
   ]
  },
  {
   "cell_type": "code",
   "execution_count": 44,
   "metadata": {},
   "outputs": [
    {
     "name": "stdout",
     "output_type": "stream",
     "text": [
      "Test score: 0.0288531594841\n",
      "Test accuracy: 0.9914\n"
     ]
    }
   ],
   "source": [
    "#Evaluating the model on the test data    \n",
    "score, accuracy = model.evaluate(X_test, Y_test, verbose=0)\n",
    "print('Test score:', score)\n",
    "print('Test accuracy:', accuracy)"
   ]
  },
  {
   "cell_type": "code",
   "execution_count": 45,
   "metadata": {
    "slideshow": {
     "slide_type": "subslide"
    }
   },
   "outputs": [
    {
     "data": {
      "image/png": "[encoded data removed]",
      "text/plain": [
       "<matplotlib.figure.Figure at 0x7fcfb3880240>"
      ]
     },
     "metadata": {},
     "output_type": "display_data"
    }
   ],
   "source": [
    "slice = 20\n",
    "predicted = model.predict(X_test[:slice]).argmax(-1)\n",
    "\n",
    "plt.figure(figsize=(16,8))\n",
    "for i in range(slice):\n",
    "    plt.subplot(1, slice, i+1)\n",
    "    plt.imshow(X_test_orig[i], interpolation='nearest')\n",
    "    plt.text(0, 0, predicted[i], color='black', \n",
    "             bbox=dict(facecolor='white', alpha=1))\n",
    "    plt.axis('off')"
   ]
  },
  {
   "cell_type": "markdown",
   "metadata": {},
   "source": [
    "---"
   ]
  },
  {
   "cell_type": "markdown",
   "metadata": {},
   "source": [
    "## Understanding Convolutional Layers Structure\n",
    "\n",
    "In this exercise we want to build a (_quite shallow_) network which contains two \n",
    "[Convolution, Convolution, MaxPooling] stages, and two Dense layers.\n",
    "\n",
    "To test a different optimizer, we will use [AdaDelta](http://keras.io/optimizers/), which is a bit more complex than the simple Vanilla SGD with momentum."
   ]
  },
  {
   "cell_type": "code",
   "execution_count": 46,
   "metadata": {},
   "outputs": [],
   "source": [
    "from keras.optimizers import Adadelta"
   ]
  },
  {
   "cell_type": "code",
   "execution_count": 47,
   "metadata": {},
   "outputs": [],
   "source": [
    "input_shape = shape_ord\n",
    "nb_classes = 10"
   ]
  },
  {
   "cell_type": "markdown",
   "metadata": {},
   "source": [
    "### Understanding layer shapes\n",
    "\n",
    "An important feature of Keras layers is that each of them has an `input_shape` attribute, which you can use to visualize the shape of the input tensor, and an `output_shape` attribute, for inspecting the shape of the output tensor.\n",
    "\n",
    "As we can see, the input shape of the first convolutional layer corresponds to the `input_shape` attribute (which must be specified by the user). \n",
    "\n",
    "In this case, it is a `28x28` image with three color channels. \n",
    "\n",
    "Since this convolutional layer has the `padding` set to `same`, its output width and height will remain the same, and the number of output channel will be equal to the number of filters learned by the layer, 16. \n",
    "\n",
    "The following convolutional layer, instead, have the default `padding`, and therefore reduce width and height by $(k-1)$, where $k$ is the size of the kernel. \n",
    "\n",
    "`MaxPooling` layers, instead, reduce width and height of the input tensor, but keep the same number of channels. \n",
    "\n",
    "`Activation` layers, of course, don't change the shape."
   ]
  },
  {
   "cell_type": "code",
   "execution_count": 49,
   "metadata": {},
   "outputs": [
    {
     "name": "stdout",
     "output_type": "stream",
     "text": [
      "_________________________________________________________________\n",
      "Layer (type)                 Output Shape              Param #   \n",
      "=================================================================\n",
      "conv2d_6 (Conv2D)            (None, 26, 26, 32)        320       \n",
      "_________________________________________________________________\n",
      "activation_13 (Activation)   (None, 26, 26, 32)        0         \n",
      "_________________________________________________________________\n",
      "conv2d_7 (Conv2D)            (None, 24, 24, 32)        9248      \n",
      "_________________________________________________________________\n",
      "activation_14 (Activation)   (None, 24, 24, 32)        0         \n",
      "_________________________________________________________________\n",
      "max_pooling2d_2 (MaxPooling2 (None, 12, 12, 32)        0         \n",
      "_________________________________________________________________\n",
      "dropout_4 (Dropout)          (None, 12, 12, 32)        0         \n",
      "_________________________________________________________________\n",
      "flatten_5 (Flatten)          (None, 4608)              0         \n",
      "_________________________________________________________________\n",
      "dense_8 (Dense)              (None, 128)               589952    \n",
      "_________________________________________________________________\n",
      "activation_15 (Activation)   (None, 128)               0         \n",
      "_________________________________________________________________\n",
      "dropout_5 (Dropout)          (None, 128)               0         \n",
      "_________________________________________________________________\n",
      "dense_9 (Dense)              (None, 10)                1290      \n",
      "_________________________________________________________________\n",
      "activation_16 (Activation)   (None, 10)                0         \n",
      "=================================================================\n",
      "Total params: 600,810\n",
      "Trainable params: 600,810\n",
      "Non-trainable params: 0\n",
      "_________________________________________________________________\n"
     ]
    }
   ],
   "source": [
    "model.summary()"
   ]
  },
  {
   "cell_type": "code",
   "execution_count": 50,
   "metadata": {},
   "outputs": [
    {
     "name": "stdout",
     "output_type": "stream",
     "text": [
      "Layer 0 \t conv2d_6 \t\t (None, 28, 28, 1) \t (None, 26, 26, 32)\n",
      "Layer 1 \t activation_13 \t\t (None, 26, 26, 32) \t (None, 26, 26, 32)\n",
      "Layer 2 \t conv2d_7 \t\t (None, 26, 26, 32) \t (None, 24, 24, 32)\n",
      "Layer 3 \t activation_14 \t\t (None, 24, 24, 32) \t (None, 24, 24, 32)\n",
      "Layer 4 \t max_pooling2d_2 \t\t (None, 24, 24, 32) \t (None, 12, 12, 32)\n",
      "Layer 5 \t dropout_4 \t\t (None, 12, 12, 32) \t (None, 12, 12, 32)\n",
      "Layer 6 \t flatten_5 \t\t (None, 12, 12, 32) \t (None, 4608)\n",
      "Layer 7 \t dense_8 \t\t (None, 4608) \t (None, 128)\n",
      "Layer 8 \t activation_15 \t\t (None, 128) \t (None, 128)\n",
      "Layer 9 \t dropout_5 \t\t (None, 128) \t (None, 128)\n",
      "Layer 10 \t dense_9 \t\t (None, 128) \t (None, 10)\n",
      "Layer 11 \t activation_16 \t\t (None, 10) \t (None, 10)\n"
     ]
    }
   ],
   "source": [
    "for i, layer in enumerate(model.layers):\n",
    "    print (\"Layer\", i, \"\\t\", layer.name, \"\\t\\t\", layer.input_shape, \"\\t\", layer.output_shape)"
   ]
  },
  {
   "cell_type": "markdown",
   "metadata": {},
   "source": [
    "### Understanding weights shape\n",
    "\n",
    "In the same way, we can visualize the shape of the weights learned by each layer. \n",
    "\n",
    "In particular, Keras lets you inspect weights by using the `get_weights` method of a layer object. \n",
    "\n",
    "This will return a list with two elements, the first one being the **weight tensor** and the second one being the **bias vector**.\n",
    "\n",
    "In particular:\n",
    "\n",
    "- **MaxPooling layer** don't have any weight tensor, since they don't have learnable parameters. \n",
    "\n",
    "\n",
    "- **Convolutional layers**, instead, learn a $(n_o, n_i, k, k)$ weight tensor, where $k$ is the size of the kernel, $n_i$ is the number of channels of the input tensor, and $n_o$ is the number of filters to be learned. \n",
    "\n",
    "For each of the $n_o$ filters, a bias is also learned. \n",
    "\n",
    "\n",
    "- **Dense layers** learn a $(n_i, n_o)$ weight tensor, where $n_o$ is the output size and $n_i$ is the input size of the layer. Each of the $n_o$ neurons also has a bias."
   ]
  },
  {
   "cell_type": "code",
   "execution_count": 51,
   "metadata": {},
   "outputs": [
    {
     "name": "stdout",
     "output_type": "stream",
     "text": [
      "Layer 0 \t conv2d_6 \t\t (3, 3, 1, 32) \t (32,)\n",
      "Layer 2 \t conv2d_7 \t\t (3, 3, 32, 32) \t (32,)\n",
      "Layer 7 \t dense_8 \t\t (4608, 128) \t (128,)\n",
      "Layer 10 \t dense_9 \t\t (128, 10) \t (10,)\n"
     ]
    }
   ],
   "source": [
    "for i, layer in enumerate(model.layers):\n",
    "    if len(layer.get_weights()) > 0:\n",
    "        W, b = layer.get_weights()\n",
    "        print(\"Layer\", i, \"\\t\", layer.name, \"\\t\\t\", W.shape, \"\\t\", b.shape)"
   ]
  },
  {
   "cell_type": "markdown",
   "metadata": {
    "slideshow": {
     "slide_type": "slide"
    }
   },
   "source": [
    "# Batch Normalisation"
   ]
  },
  {
   "cell_type": "markdown",
   "metadata": {},
   "source": [
    "Normalize the activations of the previous layer at each batch, i.e. applies a transformation that maintains the mean activation close to 0 and the activation standard deviation close to 1."
   ]
  },
  {
   "cell_type": "markdown",
   "metadata": {
    "slideshow": {
     "slide_type": "subslide"
    }
   },
   "source": [
    "## How to BatchNorm in Keras"
   ]
  },
  {
   "cell_type": "markdown",
   "metadata": {},
   "source": [
    "```python\n",
    "from keras.layers.normalization import BatchNormalization\n",
    "\n",
    "BatchNormalization(axis=-1, momentum=0.99, epsilon=0.001, center=True, scale=True, \n",
    "                   beta_initializer='zeros', gamma_initializer='ones', moving_mean_initializer='zeros',\n",
    "                   moving_variance_initializer='ones', beta_regularizer=None, gamma_regularizer=None,\n",
    "                   beta_constraint=None, gamma_constraint=None)\n",
    "```\n",
    "\n",
    "#### Arguments\n",
    "\n",
    "<ul>\n",
    "<li><strong>axis</strong>: Integer, the axis that should be normalized\n",
    "    (typically the features axis).\n",
    "    For instance, after a <code>Conv2D</code> layer with\n",
    "    <code>data_format=\"channels_first\"</code>,\n",
    "    set <code>axis=1</code> in <code>BatchNormalization</code>.</li>\n",
    "<li><strong>momentum</strong>: Momentum for the moving average.</li>\n",
    "<li><strong>epsilon</strong>: Small float added to variance to avoid dividing by zero.</li>\n",
    "<li><strong>center</strong>: If True, add offset of <code>beta</code> to normalized tensor.\n",
    "    If False, <code>beta</code> is ignored.</li>\n",
    "<li><strong>scale</strong>: If True, multiply by <code>gamma</code>.\n",
    "    If False, <code>gamma</code> is not used.\n",
    "    When the next layer is linear (also e.g. <code>nn.relu</code>),\n",
    "    this can be disabled since the scaling\n",
    "    will be done by the next layer.</li>\n",
    "<li><strong>beta_initializer</strong>: Initializer for the beta weight.</li>\n",
    "<li><strong>gamma_initializer</strong>: Initializer for the gamma weight.</li>\n",
    "<li><strong>moving_mean_initializer</strong>: Initializer for the moving mean.</li>\n",
    "<li><strong>moving_variance_initializer</strong>: Initializer for the moving variance.</li>\n",
    "<li><strong>beta_regularizer</strong>: Optional regularizer for the beta weight.</li>\n",
    "<li><strong>gamma_regularizer</strong>: Optional regularizer for the gamma weight.</li>\n",
    "<li><strong>beta_constraint</strong>: Optional constraint for the beta weight.</li>\n",
    "<li><strong>gamma_constraint</strong>: Optional constraint for the gamma weight.</li>\n",
    "</ul>"
   ]
  },
  {
   "cell_type": "markdown",
   "metadata": {},
   "source": [
    "### Excercise"
   ]
  },
  {
   "cell_type": "code",
   "execution_count": 52,
   "metadata": {
    "slideshow": {
     "slide_type": "subslide"
    }
   },
   "outputs": [],
   "source": [
    "# Try to add a new BatchNormalization layer to the Model \n",
    "# (after the Dropout layer) - before or after the ReLU Activation"
   ]
  },
  {
   "cell_type": "markdown",
   "metadata": {},
   "source": [
    "---"
   ]
  }
 ],
 "metadata": {
  "kernelspec": {
   "display_name": "Python 3",
   "language": "python",
   "name": "python3"
  },
  "language_info": {
   "codemirror_mode": {
    "name": "ipython",
    "version": 3
   },
   "file_extension": ".py",
   "mimetype": "text/x-python",
   "name": "python",
   "nbconvert_exporter": "python",
   "pygments_lexer": "ipython3",
   "version": "3.6.4"
  }
 },
 "nbformat": 4,
 "nbformat_minor": 1
}
